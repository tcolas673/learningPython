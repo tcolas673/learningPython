{
 "cells": [
  {
   "cell_type": "code",
   "execution_count": 2,
   "metadata": {},
   "outputs": [
    {
     "name": "stdout",
     "output_type": "stream",
     "text": [
      "<Element 'Results' at 0x10d021908>\n"
     ]
    }
   ],
   "source": [
    "import pandas as pd\n",
    "from contactType import contactList\n",
    "from matplotlib import pyplot as plt \n",
    "import xml.etree.ElementTree as etree\n",
    "import os\n",
    "\n",
    "tree = etree.parse('results.xml')\n",
    "root = tree.getroot()\n",
    "print(root)"
   ]
  },
  {
   "cell_type": "code",
   "execution_count": 3,
   "metadata": {},
   "outputs": [
    {
     "ename": "NameError",
     "evalue": "name '__file__' is not defined",
     "output_type": "error",
     "traceback": [
      "\u001b[0;31m---------------------------------------------------------------------------\u001b[0m",
      "\u001b[0;31mNameError\u001b[0m                                 Traceback (most recent call last)",
      "\u001b[0;32m<ipython-input-3-1d3e90d3d0c7>\u001b[0m in \u001b[0;36m<module>\u001b[0;34m()\u001b[0m\n\u001b[1;32m      7\u001b[0m \u001b[0;34m\u001b[0m\u001b[0m\n\u001b[1;32m      8\u001b[0m \u001b[0;34m\u001b[0m\u001b[0m\n\u001b[0;32m----> 9\u001b[0;31m \u001b[0mTHIS_FOLDER\u001b[0m \u001b[0;34m=\u001b[0m \u001b[0mos\u001b[0m\u001b[0;34m.\u001b[0m\u001b[0mpath\u001b[0m\u001b[0;34m.\u001b[0m\u001b[0mdirname\u001b[0m\u001b[0;34m(\u001b[0m\u001b[0mos\u001b[0m\u001b[0;34m.\u001b[0m\u001b[0mpath\u001b[0m\u001b[0;34m.\u001b[0m\u001b[0mabspath\u001b[0m\u001b[0;34m(\u001b[0m\u001b[0m__file__\u001b[0m\u001b[0;34m)\u001b[0m\u001b[0;34m)\u001b[0m\u001b[0;34m\u001b[0m\u001b[0m\n\u001b[0m\u001b[1;32m     10\u001b[0m \u001b[0mmy_file\u001b[0m \u001b[0;34m=\u001b[0m \u001b[0mos\u001b[0m\u001b[0;34m.\u001b[0m\u001b[0mpath\u001b[0m\u001b[0;34m.\u001b[0m\u001b[0mjoin\u001b[0m\u001b[0;34m(\u001b[0m\u001b[0mTHIS_FOLDER\u001b[0m\u001b[0;34m,\u001b[0m \u001b[0;34m'results.xml'\u001b[0m\u001b[0;34m)\u001b[0m\u001b[0;34m\u001b[0m\u001b[0m\n\u001b[1;32m     11\u001b[0m \u001b[0;34m\u001b[0m\u001b[0m\n",
      "\u001b[0;31mNameError\u001b[0m: name '__file__' is not defined"
     ]
    }
   ],
   "source": [
    "import pandas as pd\n",
    "from contactType import contactList\n",
    "from matplotlib import pyplot as plt \n",
    "import xml.etree.ElementTree as etree\n",
    "import os\n",
    "\n",
    "\n",
    "\n",
    "THIS_FOLDER = os.path.dirname(os.path.abspath(__file__))\n",
    "my_file = os.path.join(THIS_FOLDER, 'results.xml')\n",
    "\n",
    "tree = etree.parse(my_file)\n",
    "root = tree.getroot()\n",
    "columns = ['company_name', 'login', 'approved_scope', 'address', 'city', 'state', 'country', 'zip_code', 'contact_name', 'phone_number', 'email']\n",
    " \n",
    "\n",
    "dataframe = pd.DataFrame(columns = columns)\n",
    "\n",
    "for node in root.findall('Row'):\n",
    "    \n",
    "    company_name = node.find(\"tcb_name\").text\n",
    "\n",
    "    login = node.find(\"tcb_login\").text\n",
    "\n",
    "    approved_scope = node.find(\"approved_scope\").text\n",
    "\n",
    "    address = node.find(\"address\").text\n",
    "\n",
    "    city = node.find(\"city\").text\n",
    "\n",
    "    state = node.find(\"state\").text\n",
    "\n",
    "    country = node.find(\"country\").text\n",
    "\n",
    "    contact_information = node.find(\"contact_information\").text\n",
    "    contact_name, email, phone_number = contactList(contact_information)\n",
    "    dataframe = dataframe.append(pd.Series([company_name, login, approved_scope, address, city, state, country, contact_name, email, phone_number]), ignore_index = True)\n",
    "print(dataframe.head(2))"
   ]
  },
  {
   "cell_type": "code",
   "execution_count": 4,
   "metadata": {},
   "outputs": [
    {
     "name": "stderr",
     "output_type": "stream",
     "text": [
      "/Users/anastasia_colas/anaconda3/lib/python3.6/site-packages/pandas/core/frame.py:5175: RuntimeWarning: '<' not supported between instances of 'str' and 'int', sort order is undefined for incomparable objects\n",
      "  other.index).difference(self.columns).tolist()\n",
      "/Users/anastasia_colas/anaconda3/lib/python3.6/site-packages/pandas/core/frame.py:5175: RuntimeWarning: '<' not supported between instances of 'int' and 'str', sort order is undefined for incomparable objects\n",
      "  other.index).difference(self.columns).tolist()\n"
     ]
    },
    {
     "name": "stdout",
     "output_type": "stream",
     "text": [
      "  company_name login approved_scope address city state country zip_code  \\\n",
      "0          NaN   NaN            NaN     NaN  NaN   NaN     NaN      NaN   \n",
      "1          NaN   NaN            NaN     NaN  NaN   NaN     NaN      NaN   \n",
      "\n",
      "  contact_name phone_number      ...               0       1   2  \\\n",
      "0          NaN          NaN      ...       ACB, Inc.  US0101  A1   \n",
      "1          NaN          NaN      ...       ACB, Inc.  US0101  A2   \n",
      "\n",
      "                                       3       4         5              6  \\\n",
      "0  6731 Whittier Avenue       Suite C110  McLean  Virginia  United States   \n",
      "1  6731 Whittier Avenue       Suite C110  McLean  Virginia  United States   \n",
      "\n",
      "               7                    8             9  \n",
      "0  Mike Violette  hotline@acbcert.com  703-847-4700  \n",
      "1  Mike Violette  hotline@acbcert.com  703-847-4700  \n",
      "\n",
      "[2 rows x 21 columns]\n"
     ]
    }
   ],
   "source": [
    "import pandas as pd\n",
    "from contactType import contactList\n",
    "from matplotlib import pyplot as plt \n",
    "import xml.etree.ElementTree as etree\n",
    "import os\n",
    "\n",
    "\n",
    "tree = etree.parse('results.xml')\n",
    "root = tree.getroot()\n",
    "columns = ['company_name', 'login', 'approved_scope', 'address', 'city', 'state', 'country', 'zip_code', 'contact_name', 'phone_number', 'email']\n",
    " \n",
    "\n",
    "dataframe = pd.DataFrame(columns = columns)\n",
    "\n",
    "for node in root.findall('Row'):\n",
    "    \n",
    "    company_name = node.find(\"tcb_name\").text\n",
    "\n",
    "    login = node.find(\"tcb_login\").text\n",
    "\n",
    "    approved_scope = node.find(\"approved_scope\").text\n",
    "\n",
    "    address = node.find(\"address\").text\n",
    "\n",
    "    city = node.find(\"city\").text\n",
    "\n",
    "    state = node.find(\"state\").text\n",
    "\n",
    "    country = node.find(\"country\").text\n",
    "\n",
    "    contact_information = node.find(\"contact_information\").text\n",
    "    contact_name, email, phone_number = contactList(contact_information)\n",
    "    dataframe = dataframe.append(pd.Series([company_name, login, approved_scope, address, city, state, country, contact_name, email, phone_number]), ignore_index = True)\n",
    "print(dataframe.head(2))"
   ]
  },
  {
   "cell_type": "code",
   "execution_count": 17,
   "metadata": {},
   "outputs": [
    {
     "name": "stdout",
     "output_type": "stream",
     "text": [
      "company_name\n",
      "ACB, Inc.                                                                  A1 A2 A3 A4 B1 B2 B3 B4\n",
      "Bay Area Compliance Laboratory Corp.                                       A1 A2 A3 A4 B1 B2 B3 B4\n",
      "Bureau Veritas Consumer Products Services, Inc.    A1 A2 A3 A4 B1 B2 B3 B4 A1 A2 A3 A4 B1 B2 B3 B4\n",
      "CETECOM GmbH                                                               A1 A2 A3 A4 B1 B2 B3 B4\n",
      "CETECOM Inc.                                                                        A1 A2 A4 B1 B2\n",
      "Name: approved_scope, dtype: object\n"
     ]
    }
   ],
   "source": [
    "import pandas as pd\n",
    "from contactType import contactList\n",
    "from matplotlib import pyplot as plt \n",
    "import xml.etree.ElementTree as etree\n",
    "import os\n",
    "\n",
    "\n",
    "tree = etree.parse('results.xml')\n",
    "root = tree.getroot()\n",
    "columns = ['company_name', 'login', 'approved_scope', 'address', 'city', 'state', 'country', 'zip_code', 'contact_name', 'phone_number', 'email']\n",
    "\n",
    "rows = []\n",
    "\n",
    "for node in root.findall('Row'):\n",
    "    \n",
    "    company_name = node.find(\"tcb_name\").text\n",
    "\n",
    "    login = node.find(\"tcb_login\").text\n",
    "\n",
    "    approved_scope = node.find(\"approved_scope\").text\n",
    "\n",
    "    address = node.find(\"address\").text\n",
    "\n",
    "    city = node.find(\"city\").text\n",
    "\n",
    "    state = node.find(\"state\").text\n",
    "\n",
    "    country = node.find(\"country\").text\n",
    "    \n",
    "    zip_code = node.find(\"zip_code\").text\n",
    "\n",
    "    contact_information = node.find(\"contact_information\").text\n",
    "    contact_name, email, phone_number = contactList(contact_information)\n",
    "    rows.append({'company_name': company_name, 'login': login,'approved_scope':approved_scope, 'address':address,'city': city, 'state': state, 'country': country,'zip_code':zip_code, 'contact_name': contact_name, 'email':email, 'phone_number': phone_number })\n",
    "\n",
    "    dataframe = pd.DataFrame(rows, columns = columns)\n",
    "    \n",
    "print(dataframe.groupby('company_name')['approved_scope'].apply(' '.join).head())"
   ]
  },
  {
   "cell_type": "code",
   "execution_count": null,
   "metadata": {},
   "outputs": [],
   "source": []
  }
 ],
 "metadata": {
  "kernelspec": {
   "display_name": "Python 3",
   "language": "python",
   "name": "python3"
  },
  "language_info": {
   "codemirror_mode": {
    "name": "ipython",
    "version": 3
   },
   "file_extension": ".py",
   "mimetype": "text/x-python",
   "name": "python",
   "nbconvert_exporter": "python",
   "pygments_lexer": "ipython3",
   "version": "3.6.4"
  }
 },
 "nbformat": 4,
 "nbformat_minor": 2
}
